{
 "cells": [
  {
   "cell_type": "code",
   "execution_count": 1,
   "metadata": {},
   "outputs": [
    {
     "name": "stdout",
     "output_type": "stream",
     "text": [
      "Enter marks of the Math subject: 85\n",
      "Enter marks of the English subject: 95\n",
      "Enter marks of the Physics subject: 98\n",
      "Enter marks of the Chemistory subject: 92\n",
      "Enter marks of the Biology subject: 100\n",
      "Grade: A\n"
     ]
    }
   ],
   "source": [
    "submth=int(input(\"Enter marks of the Math subject: \"))\n",
    "subeng=int(input(\"Enter marks of the English subject: \"))\n",
    "subphy=int(input(\"Enter marks of the Physics subject: \"))\n",
    "subchm=int(input(\"Enter marks of the Chemistory subject: \"))\n",
    "subbio=int(input(\"Enter marks of the Biology subject: \"))\n",
    "avg=(submth+subeng+subphy+subchm+subbio)/5\n",
    "if(avg>=90):\n",
    "    print(\"Grade: A\")\n",
    "elif(avg>=80 & avg<90):\n",
    "    print(\"Grade: B\")\n",
    "elif(avg>=70 & avg<80):\n",
    "    print(\"Grade: C\")\n",
    "elif(avg>=60 & avg<70):\n",
    "    print(\"Grade: D\")\n",
    "else:\n",
    "    print(\"Grade: F\")"
   ]
  },
  {
   "cell_type": "code",
   "execution_count": 2,
   "metadata": {},
   "outputs": [
    {
     "name": "stdout",
     "output_type": "stream",
     "text": [
      "Enter a number: 5\n",
      "5 is Odd\n"
     ]
    }
   ],
   "source": [
    "num = int(input(\"Enter a number: \"))\n",
    "if (num % 2) == 0:\n",
    "   print(\"{0} is Even\".format(num))\n",
    "else:\n",
    "   print(\"{0} is Odd\".format(num))"
   ]
  },
  {
   "cell_type": "code",
   "execution_count": 3,
   "metadata": {},
   "outputs": [
    {
     "name": "stdout",
     "output_type": "stream",
     "text": [
      "The length of list is:  5\n"
     ]
    }
   ],
   "source": [
    "num = len([10, 20, 30, 40, 70]) \n",
    "print(\"The length of list is: \", num)"
   ]
  },
  {
   "cell_type": "code",
   "execution_count": 4,
   "metadata": {},
   "outputs": [
    {
     "name": "stdout",
     "output_type": "stream",
     "text": [
      "Sum of all numeric items in given list:  198\n"
     ]
    }
   ],
   "source": [
    "listval = [17, 55, 43, 71, 12] \n",
    "\n",
    "listtotal = sum(listval) \n",
    "   \n",
    "print(\"Sum of all numeric items in given list: \", listtotal) "
   ]
  },
  {
   "cell_type": "code",
   "execution_count": 5,
   "metadata": {},
   "outputs": [
    {
     "name": "stdout",
     "output_type": "stream",
     "text": [
      "Largest element is: 91\n"
     ]
    }
   ],
   "source": [
    "listval = [34, 25, 4, 15, 91] \n",
    "\n",
    "print(\"Largest element is:\", max(listval)) "
   ]
  },
  {
   "cell_type": "code",
   "execution_count": 6,
   "metadata": {},
   "outputs": [
    {
     "ename": "IndentationError",
     "evalue": "expected an indented block (<ipython-input-6-d6174de9bf49>, line 8)",
     "output_type": "error",
     "traceback": [
      "\u001b[1;36m  File \u001b[1;32m\"<ipython-input-6-d6174de9bf49>\"\u001b[1;36m, line \u001b[1;32m8\u001b[0m\n\u001b[1;33m    newlist.append(i)\u001b[0m\n\u001b[1;37m                     ^\u001b[0m\n\u001b[1;31mIndentationError\u001b[0m\u001b[1;31m:\u001b[0m expected an indented block\n"
     ]
    }
   ],
   "source": [
    "a = [1, 1, 2, 3, 5, 8, 13, 21, 34, 55, 89]\n",
    "\n",
    "newlist = []\n",
    "\n",
    "for i in a:\n",
    "\n",
    "    if i < 5:\n",
    "newlist.append(i)\n",
    "\n",
    "print(newlist)"
   ]
  },
  {
   "cell_type": "code",
   "execution_count": null,
   "metadata": {},
   "outputs": [],
   "source": []
  }
 ],
 "metadata": {
  "kernelspec": {
   "display_name": "Python 3",
   "language": "python",
   "name": "python3"
  },
  "language_info": {
   "codemirror_mode": {
    "name": "ipython",
    "version": 3
   },
   "file_extension": ".py",
   "mimetype": "text/x-python",
   "name": "python",
   "nbconvert_exporter": "python",
   "pygments_lexer": "ipython3",
   "version": "3.7.4"
  }
 },
 "nbformat": 4,
 "nbformat_minor": 2
}
